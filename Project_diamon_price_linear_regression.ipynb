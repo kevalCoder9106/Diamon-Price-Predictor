{
 "cells": [
  {
   "cell_type": "code",
   "execution_count": 55,
   "id": "8dcbf4d8",
   "metadata": {},
   "outputs": [],
   "source": [
    "import pandas as pd\n",
    "import numpy as np\n",
    "import matplotlib.pyplot as plt\n",
    "import seaborn as sb\n",
    "\n",
    "sb.set()"
   ]
  },
  {
   "cell_type": "code",
   "execution_count": 56,
   "id": "69b6e77f",
   "metadata": {},
   "outputs": [],
   "source": [
    "# https://www.kaggle.com/datasets/nancyalaswad90/diamonds-prices\n",
    "\n",
    "data = pd.read_csv('data/Diamonds Prices2022.csv')"
   ]
  },
  {
   "cell_type": "code",
   "execution_count": 77,
   "id": "3b526f15",
   "metadata": {},
   "outputs": [],
   "source": [
    "temp_data = pd.read_csv('data/Diamonds Prices2022.csv')"
   ]
  },
  {
   "cell_type": "code",
   "execution_count": 57,
   "id": "da5f8f90",
   "metadata": {},
   "outputs": [
    {
     "data": {
      "text/html": [
       "<div>\n",
       "<style scoped>\n",
       "    .dataframe tbody tr th:only-of-type {\n",
       "        vertical-align: middle;\n",
       "    }\n",
       "\n",
       "    .dataframe tbody tr th {\n",
       "        vertical-align: top;\n",
       "    }\n",
       "\n",
       "    .dataframe thead th {\n",
       "        text-align: right;\n",
       "    }\n",
       "</style>\n",
       "<table border=\"1\" class=\"dataframe\">\n",
       "  <thead>\n",
       "    <tr style=\"text-align: right;\">\n",
       "      <th></th>\n",
       "      <th>Unnamed: 0</th>\n",
       "      <th>carat</th>\n",
       "      <th>cut</th>\n",
       "      <th>color</th>\n",
       "      <th>clarity</th>\n",
       "      <th>depth</th>\n",
       "      <th>table</th>\n",
       "      <th>price</th>\n",
       "      <th>x</th>\n",
       "      <th>y</th>\n",
       "      <th>z</th>\n",
       "    </tr>\n",
       "  </thead>\n",
       "  <tbody>\n",
       "    <tr>\n",
       "      <th>0</th>\n",
       "      <td>1</td>\n",
       "      <td>0.23</td>\n",
       "      <td>Ideal</td>\n",
       "      <td>E</td>\n",
       "      <td>SI2</td>\n",
       "      <td>61.5</td>\n",
       "      <td>55.0</td>\n",
       "      <td>326</td>\n",
       "      <td>3.95</td>\n",
       "      <td>3.98</td>\n",
       "      <td>2.43</td>\n",
       "    </tr>\n",
       "    <tr>\n",
       "      <th>1</th>\n",
       "      <td>2</td>\n",
       "      <td>0.21</td>\n",
       "      <td>Premium</td>\n",
       "      <td>E</td>\n",
       "      <td>SI1</td>\n",
       "      <td>59.8</td>\n",
       "      <td>61.0</td>\n",
       "      <td>326</td>\n",
       "      <td>3.89</td>\n",
       "      <td>3.84</td>\n",
       "      <td>2.31</td>\n",
       "    </tr>\n",
       "    <tr>\n",
       "      <th>2</th>\n",
       "      <td>3</td>\n",
       "      <td>0.23</td>\n",
       "      <td>Good</td>\n",
       "      <td>E</td>\n",
       "      <td>VS1</td>\n",
       "      <td>56.9</td>\n",
       "      <td>65.0</td>\n",
       "      <td>327</td>\n",
       "      <td>4.05</td>\n",
       "      <td>4.07</td>\n",
       "      <td>2.31</td>\n",
       "    </tr>\n",
       "    <tr>\n",
       "      <th>3</th>\n",
       "      <td>4</td>\n",
       "      <td>0.29</td>\n",
       "      <td>Premium</td>\n",
       "      <td>I</td>\n",
       "      <td>VS2</td>\n",
       "      <td>62.4</td>\n",
       "      <td>58.0</td>\n",
       "      <td>334</td>\n",
       "      <td>4.20</td>\n",
       "      <td>4.23</td>\n",
       "      <td>2.63</td>\n",
       "    </tr>\n",
       "    <tr>\n",
       "      <th>4</th>\n",
       "      <td>5</td>\n",
       "      <td>0.31</td>\n",
       "      <td>Good</td>\n",
       "      <td>J</td>\n",
       "      <td>SI2</td>\n",
       "      <td>63.3</td>\n",
       "      <td>58.0</td>\n",
       "      <td>335</td>\n",
       "      <td>4.34</td>\n",
       "      <td>4.35</td>\n",
       "      <td>2.75</td>\n",
       "    </tr>\n",
       "  </tbody>\n",
       "</table>\n",
       "</div>"
      ],
      "text/plain": [
       "   Unnamed: 0  carat      cut color clarity  depth  table  price     x     y  \\\n",
       "0           1   0.23    Ideal     E     SI2   61.5   55.0    326  3.95  3.98   \n",
       "1           2   0.21  Premium     E     SI1   59.8   61.0    326  3.89  3.84   \n",
       "2           3   0.23     Good     E     VS1   56.9   65.0    327  4.05  4.07   \n",
       "3           4   0.29  Premium     I     VS2   62.4   58.0    334  4.20  4.23   \n",
       "4           5   0.31     Good     J     SI2   63.3   58.0    335  4.34  4.35   \n",
       "\n",
       "      z  \n",
       "0  2.43  \n",
       "1  2.31  \n",
       "2  2.31  \n",
       "3  2.63  \n",
       "4  2.75  "
      ]
     },
     "execution_count": 57,
     "metadata": {},
     "output_type": "execute_result"
    }
   ],
   "source": [
    "data.head()"
   ]
  },
  {
   "cell_type": "code",
   "execution_count": 93,
   "id": "37a9303f",
   "metadata": {},
   "outputs": [
    {
     "data": {
      "text/html": [
       "<div>\n",
       "<style scoped>\n",
       "    .dataframe tbody tr th:only-of-type {\n",
       "        vertical-align: middle;\n",
       "    }\n",
       "\n",
       "    .dataframe tbody tr th {\n",
       "        vertical-align: top;\n",
       "    }\n",
       "\n",
       "    .dataframe thead th {\n",
       "        text-align: right;\n",
       "    }\n",
       "</style>\n",
       "<table border=\"1\" class=\"dataframe\">\n",
       "  <thead>\n",
       "    <tr style=\"text-align: right;\">\n",
       "      <th></th>\n",
       "      <th>carat</th>\n",
       "      <th>cut</th>\n",
       "      <th>color</th>\n",
       "      <th>clarity</th>\n",
       "      <th>price</th>\n",
       "      <th>log_price</th>\n",
       "    </tr>\n",
       "  </thead>\n",
       "  <tbody>\n",
       "    <tr>\n",
       "      <th>count</th>\n",
       "      <td>45624.000000</td>\n",
       "      <td>45624</td>\n",
       "      <td>45624</td>\n",
       "      <td>45624</td>\n",
       "      <td>45624.000000</td>\n",
       "      <td>45624.000000</td>\n",
       "    </tr>\n",
       "    <tr>\n",
       "      <th>unique</th>\n",
       "      <td>NaN</td>\n",
       "      <td>5</td>\n",
       "      <td>7</td>\n",
       "      <td>8</td>\n",
       "      <td>NaN</td>\n",
       "      <td>NaN</td>\n",
       "    </tr>\n",
       "    <tr>\n",
       "      <th>top</th>\n",
       "      <td>NaN</td>\n",
       "      <td>Ideal</td>\n",
       "      <td>G</td>\n",
       "      <td>SI1</td>\n",
       "      <td>NaN</td>\n",
       "      <td>NaN</td>\n",
       "    </tr>\n",
       "    <tr>\n",
       "      <th>freq</th>\n",
       "      <td>NaN</td>\n",
       "      <td>19276</td>\n",
       "      <td>9885</td>\n",
       "      <td>11231</td>\n",
       "      <td>NaN</td>\n",
       "      <td>NaN</td>\n",
       "    </tr>\n",
       "    <tr>\n",
       "      <th>mean</th>\n",
       "      <td>0.677412</td>\n",
       "      <td>NaN</td>\n",
       "      <td>NaN</td>\n",
       "      <td>NaN</td>\n",
       "      <td>2865.549163</td>\n",
       "      <td>7.609224</td>\n",
       "    </tr>\n",
       "    <tr>\n",
       "      <th>std</th>\n",
       "      <td>0.309142</td>\n",
       "      <td>NaN</td>\n",
       "      <td>NaN</td>\n",
       "      <td>NaN</td>\n",
       "      <td>2427.704609</td>\n",
       "      <td>0.857322</td>\n",
       "    </tr>\n",
       "    <tr>\n",
       "      <th>min</th>\n",
       "      <td>0.250000</td>\n",
       "      <td>NaN</td>\n",
       "      <td>NaN</td>\n",
       "      <td>NaN</td>\n",
       "      <td>334.000000</td>\n",
       "      <td>5.811141</td>\n",
       "    </tr>\n",
       "    <tr>\n",
       "      <th>25%</th>\n",
       "      <td>0.390000</td>\n",
       "      <td>NaN</td>\n",
       "      <td>NaN</td>\n",
       "      <td>NaN</td>\n",
       "      <td>925.000000</td>\n",
       "      <td>6.829794</td>\n",
       "    </tr>\n",
       "    <tr>\n",
       "      <th>50%</th>\n",
       "      <td>0.600000</td>\n",
       "      <td>NaN</td>\n",
       "      <td>NaN</td>\n",
       "      <td>NaN</td>\n",
       "      <td>2029.000000</td>\n",
       "      <td>7.615298</td>\n",
       "    </tr>\n",
       "    <tr>\n",
       "      <th>75%</th>\n",
       "      <td>1.000000</td>\n",
       "      <td>NaN</td>\n",
       "      <td>NaN</td>\n",
       "      <td>NaN</td>\n",
       "      <td>4265.000000</td>\n",
       "      <td>8.358197</td>\n",
       "    </tr>\n",
       "    <tr>\n",
       "      <th>max</th>\n",
       "      <td>1.490000</td>\n",
       "      <td>NaN</td>\n",
       "      <td>NaN</td>\n",
       "      <td>NaN</td>\n",
       "      <td>18700.000000</td>\n",
       "      <td>9.836279</td>\n",
       "    </tr>\n",
       "  </tbody>\n",
       "</table>\n",
       "</div>"
      ],
      "text/plain": [
       "               carat    cut  color clarity         price     log_price\n",
       "count   45624.000000  45624  45624   45624  45624.000000  45624.000000\n",
       "unique           NaN      5      7       8           NaN           NaN\n",
       "top              NaN  Ideal      G     SI1           NaN           NaN\n",
       "freq             NaN  19276   9885   11231           NaN           NaN\n",
       "mean        0.677412    NaN    NaN     NaN   2865.549163      7.609224\n",
       "std         0.309142    NaN    NaN     NaN   2427.704609      0.857322\n",
       "min         0.250000    NaN    NaN     NaN    334.000000      5.811141\n",
       "25%         0.390000    NaN    NaN     NaN    925.000000      6.829794\n",
       "50%         0.600000    NaN    NaN     NaN   2029.000000      7.615298\n",
       "75%         1.000000    NaN    NaN     NaN   4265.000000      8.358197\n",
       "max         1.490000    NaN    NaN     NaN  18700.000000      9.836279"
      ]
     },
     "execution_count": 93,
     "metadata": {},
     "output_type": "execute_result"
    }
   ],
   "source": [
    "data.describe(include='all')"
   ]
  },
  {
   "cell_type": "markdown",
   "id": "0f7760a0",
   "metadata": {},
   "source": [
    "## Clearing Data"
   ]
  },
  {
   "cell_type": "code",
   "execution_count": 92,
   "id": "bb32d837",
   "metadata": {},
   "outputs": [],
   "source": [
    "# Column depth and table wasnt linear\n",
    "\n",
    "data = data.drop(['depth','table', 'Unnamed: 0'],axis=1)"
   ]
  },
  {
   "cell_type": "code",
   "execution_count": 60,
   "id": "0dfe39bc",
   "metadata": {},
   "outputs": [],
   "source": [
    "# Getting log values of each price\n",
    "\n",
    "data['log_price'] = np.log(data['price'])"
   ]
  },
  {
   "cell_type": "markdown",
   "id": "88778b54",
   "metadata": {},
   "source": [
    "## Removing outliers"
   ]
  },
  {
   "cell_type": "code",
   "execution_count": 69,
   "id": "ce69bfc5",
   "metadata": {},
   "outputs": [
    {
     "data": {
      "text/plain": [
       "<matplotlib.collections.PathCollection at 0x1a925620e20>"
      ]
     },
     "execution_count": 69,
     "metadata": {},
     "output_type": "execute_result"
    },
    {
     "data": {
      "image/png": "[encoded data removed]",
      "text/plain": [
       "<Figure size 432x288 with 1 Axes>"
      ]
     },
     "metadata": {},
     "output_type": "display_data"
    }
   ],
   "source": [
    "plt.scatter(data['carat'],data['log_price'])"
   ]
  },
  {
   "cell_type": "code",
   "execution_count": 68,
   "id": "7c9a8aa5",
   "metadata": {},
   "outputs": [],
   "source": [
    "q_carat = data['carat'].quantile(.95)\n",
    "data = data[data['carat'] < q_carat]"
   ]
  },
  {
   "cell_type": "code",
   "execution_count": 70,
   "id": "5d1e6f5d",
   "metadata": {},
   "outputs": [
    {
     "data": {
      "image/png": "[encoded data removed]",
      "text/plain": [
       "<Figure size 432x288 with 1 Axes>"
      ]
     },
     "metadata": {},
     "output_type": "display_data"
    }
   ],
   "source": [
    "plt.scatter(data['x'],data['log_price'])\n",
    "plt.show()"
   ]
  },
  {
   "cell_type": "code",
   "execution_count": 64,
   "id": "4722f3d9",
   "metadata": {},
   "outputs": [],
   "source": [
    "q_x = data['x'].quantile(.02)\n",
    "data = data[data['x'] > q_x]"
   ]
  },
  {
   "cell_type": "code",
   "execution_count": 71,
   "id": "3f76604a",
   "metadata": {},
   "outputs": [
    {
     "data": {
      "image/png": "[encoded data removed]",
      "text/plain": [
       "<Figure size 432x288 with 1 Axes>"
      ]
     },
     "metadata": {},
     "output_type": "display_data"
    }
   ],
   "source": [
    "plt.scatter(data['y'],data['log_price'])\n",
    "plt.show()"
   ]
  },
  {
   "cell_type": "code",
   "execution_count": 66,
   "id": "9f277a27",
   "metadata": {},
   "outputs": [],
   "source": [
    "q_y = data['y'].quantile(.99)\n",
    "data = data[data['y'] < q_y]"
   ]
  },
  {
   "cell_type": "code",
   "execution_count": 76,
   "id": "9efaf894",
   "metadata": {},
   "outputs": [
    {
     "data": {
      "image/png": "[encoded data removed]",
      "text/plain": [
       "<Figure size 432x288 with 1 Axes>"
      ]
     },
     "metadata": {},
     "output_type": "display_data"
    }
   ],
   "source": [
    "plt.scatter(data['z'],data['log_price'])\n",
    "plt.show()"
   ]
  },
  {
   "cell_type": "code",
   "execution_count": 72,
   "id": "26e0733b",
   "metadata": {},
   "outputs": [],
   "source": [
    "q_z = data['z'].quantile(.99)\n",
    "data = data[data['z'] < q_z]"
   ]
  },
  {
   "cell_type": "code",
   "execution_count": 75,
   "id": "4383b9ac",
   "metadata": {},
   "outputs": [],
   "source": [
    "q_z = data['z'].quantile(.01)\n",
    "data = data[data['z'] > q_z]"
   ]
  },
  {
   "cell_type": "code",
   "execution_count": 86,
   "id": "b8ad2e40",
   "metadata": {},
   "outputs": [],
   "source": [
    "data = data.reset_index(drop=True)"
   ]
  },
  {
   "cell_type": "markdown",
   "id": "27465194",
   "metadata": {},
   "source": [
    "## Checking for multicollinearity"
   ]
  },
  {
   "cell_type": "code",
   "execution_count": 87,
   "id": "5c526553",
   "metadata": {},
   "outputs": [
    {
     "data": {
      "text/html": [
       "<div>\n",
       "<style scoped>\n",
       "    .dataframe tbody tr th:only-of-type {\n",
       "        vertical-align: middle;\n",
       "    }\n",
       "\n",
       "    .dataframe tbody tr th {\n",
       "        vertical-align: top;\n",
       "    }\n",
       "\n",
       "    .dataframe thead th {\n",
       "        text-align: right;\n",
       "    }\n",
       "</style>\n",
       "<table border=\"1\" class=\"dataframe\">\n",
       "  <thead>\n",
       "    <tr style=\"text-align: right;\">\n",
       "      <th></th>\n",
       "      <th>Variables</th>\n",
       "      <th>VIF</th>\n",
       "    </tr>\n",
       "  </thead>\n",
       "  <tbody>\n",
       "    <tr>\n",
       "      <th>0</th>\n",
       "      <td>carat</td>\n",
       "      <td>13.763870</td>\n",
       "    </tr>\n",
       "    <tr>\n",
       "      <th>1</th>\n",
       "      <td>x</td>\n",
       "      <td>11198.512892</td>\n",
       "    </tr>\n",
       "    <tr>\n",
       "      <th>2</th>\n",
       "      <td>y</td>\n",
       "      <td>10715.922434</td>\n",
       "    </tr>\n",
       "    <tr>\n",
       "      <th>3</th>\n",
       "      <td>z</td>\n",
       "      <td>1850.987351</td>\n",
       "    </tr>\n",
       "  </tbody>\n",
       "</table>\n",
       "</div>"
      ],
      "text/plain": [
       "  Variables           VIF\n",
       "0     carat     13.763870\n",
       "1         x  11198.512892\n",
       "2         y  10715.922434\n",
       "3         z   1850.987351"
      ]
     },
     "execution_count": 87,
     "metadata": {},
     "output_type": "execute_result"
    }
   ],
   "source": [
    "from statsmodels.stats.outliers_influence import variance_inflation_factor\n",
    "\n",
    "variables = data[['carat','x','y','z']]\n",
    "vif = [variance_inflation_factor(variables.values,i) for i in range(variables.shape[1])]\n",
    "\n",
    "vif_table = pd.DataFrame({'Variables': ['carat','x','y','z'], 'VIF': vif})\n",
    "vif_table"
   ]
  },
  {
   "cell_type": "code",
   "execution_count": 89,
   "id": "d4ad1be6",
   "metadata": {},
   "outputs": [],
   "source": [
    "# dropping x, y, z since their vif is high\n",
    "data = data.drop(['x','y','z'], axis=1)"
   ]
  },
  {
   "cell_type": "markdown",
   "id": "739f33a3",
   "metadata": {},
   "source": [
    "## Preprocessing data"
   ]
  },
  {
   "cell_type": "code",
   "execution_count": 104,
   "id": "48dbfce4",
   "metadata": {},
   "outputs": [],
   "source": [
    "data = pd.get_dummies(data,drop_first=True)"
   ]
  },
  {
   "cell_type": "markdown",
   "id": "e950ff03",
   "metadata": {},
   "source": [
    "## Training and Testing"
   ]
  },
  {
   "cell_type": "code",
   "execution_count": 107,
   "id": "e08de9fd",
   "metadata": {},
   "outputs": [],
   "source": [
    "inputs = data.drop(['price','log_price'], axis=1)\n",
    "targets = data['log_price']"
   ]
  },
  {
   "cell_type": "code",
   "execution_count": 108,
   "id": "7e3491ed",
   "metadata": {},
   "outputs": [],
   "source": [
    "# scaling the inputs\n",
    "\n",
    "from sklearn.preprocessing import StandardScaler\n",
    "\n",
    "scaler = StandardScaler()\n",
    "scaler.fit(inputs)\n",
    "\n",
    "scaled_inputs = scaler.transform(inputs)"
   ]
  },
  {
   "cell_type": "code",
   "execution_count": 110,
   "id": "ed09b3de",
   "metadata": {},
   "outputs": [],
   "source": [
    "# splitting data\n",
    "\n",
    "from sklearn.model_selection import train_test_split\n",
    "\n",
    "x_train, x_test, y_train, y_test = train_test_split(scaled_inputs,targets,random_state=42)"
   ]
  },
  {
   "cell_type": "code",
   "execution_count": 111,
   "id": "2335b54a",
   "metadata": {},
   "outputs": [
    {
     "data": {
      "text/plain": [
       "LinearRegression()"
      ]
     },
     "execution_count": 111,
     "metadata": {},
     "output_type": "execute_result"
    }
   ],
   "source": [
    "# training model\n",
    "\n",
    "from sklearn.linear_model import LinearRegression\n",
    "\n",
    "reg = LinearRegression()\n",
    "reg.fit(x_train,y_train)"
   ]
  },
  {
   "cell_type": "code",
   "execution_count": 115,
   "id": "68996c30",
   "metadata": {},
   "outputs": [
    {
     "data": {
      "image/png": "[encoded data removed]",
      "text/plain": [
       "<Figure size 432x288 with 1 Axes>"
      ]
     },
     "metadata": {},
     "output_type": "display_data"
    }
   ],
   "source": [
    "# comparing original and predicted values\n",
    "\n",
    "y_hat = reg.predict(x_train)\n",
    "\n",
    "plt.scatter(y_train,y_hat)\n",
    "plt.xlabel('Y_train')\n",
    "plt.ylabel('Y_hat')\n",
    "plt.show()\n",
    "\n",
    "# as we can see data with higher observation values are not that accurate"
   ]
  },
  {
   "cell_type": "code",
   "execution_count": 117,
   "id": "ba09546e",
   "metadata": {},
   "outputs": [
    {
     "data": {
      "text/plain": [
       "<seaborn.axisgrid.FacetGrid at 0x1a9262eeb50>"
      ]
     },
     "execution_count": 117,
     "metadata": {},
     "output_type": "execute_result"
    },
    {
     "data": {
      "image/png": "[encoded data removed]",
      "text/plain": [
       "<Figure size 360x360 with 1 Axes>"
      ]
     },
     "metadata": {},
     "output_type": "display_data"
    }
   ],
   "source": [
    "# Residual graph\n",
    "\n",
    "sb.displot(y_train - y_hat)"
   ]
  },
  {
   "cell_type": "markdown",
   "id": "42903f76",
   "metadata": {},
   "source": [
    "## Testing"
   ]
  },
  {
   "cell_type": "code",
   "execution_count": 167,
   "id": "6305e578",
   "metadata": {},
   "outputs": [
    {
     "data": {
      "text/html": [
       "<div>\n",
       "<style scoped>\n",
       "    .dataframe tbody tr th:only-of-type {\n",
       "        vertical-align: middle;\n",
       "    }\n",
       "\n",
       "    .dataframe tbody tr th {\n",
       "        vertical-align: top;\n",
       "    }\n",
       "\n",
       "    .dataframe thead th {\n",
       "        text-align: right;\n",
       "    }\n",
       "</style>\n",
       "<table border=\"1\" class=\"dataframe\">\n",
       "  <thead>\n",
       "    <tr style=\"text-align: right;\">\n",
       "      <th></th>\n",
       "      <th>Predicted Values</th>\n",
       "      <th>Actual Values</th>\n",
       "      <th>Residual</th>\n",
       "      <th>Difference%</th>\n",
       "    </tr>\n",
       "  </thead>\n",
       "  <tbody>\n",
       "    <tr>\n",
       "      <th>23</th>\n",
       "      <td>348.121595</td>\n",
       "      <td>405.0</td>\n",
       "      <td>56.878405</td>\n",
       "      <td>14.044051</td>\n",
       "    </tr>\n",
       "    <tr>\n",
       "      <th>1</th>\n",
       "      <td>352.138099</td>\n",
       "      <td>335.0</td>\n",
       "      <td>-17.138099</td>\n",
       "      <td>5.115850</td>\n",
       "    </tr>\n",
       "    <tr>\n",
       "      <th>35937</th>\n",
       "      <td>382.528056</td>\n",
       "      <td>394.0</td>\n",
       "      <td>11.471944</td>\n",
       "      <td>2.911661</td>\n",
       "    </tr>\n",
       "    <tr>\n",
       "      <th>7</th>\n",
       "      <td>405.635647</td>\n",
       "      <td>351.0</td>\n",
       "      <td>-54.635647</td>\n",
       "      <td>15.565711</td>\n",
       "    </tr>\n",
       "    <tr>\n",
       "      <th>20993</th>\n",
       "      <td>409.662918</td>\n",
       "      <td>367.0</td>\n",
       "      <td>-42.662918</td>\n",
       "      <td>11.624773</td>\n",
       "    </tr>\n",
       "    <tr>\n",
       "      <th>...</th>\n",
       "      <td>...</td>\n",
       "      <td>...</td>\n",
       "      <td>...</td>\n",
       "      <td>...</td>\n",
       "    </tr>\n",
       "    <tr>\n",
       "      <th>20033</th>\n",
       "      <td>19172.713499</td>\n",
       "      <td>12401.0</td>\n",
       "      <td>-6771.713499</td>\n",
       "      <td>54.606189</td>\n",
       "    </tr>\n",
       "    <tr>\n",
       "      <th>19990</th>\n",
       "      <td>20222.238268</td>\n",
       "      <td>12196.0</td>\n",
       "      <td>-8026.238268</td>\n",
       "      <td>65.810415</td>\n",
       "    </tr>\n",
       "    <tr>\n",
       "      <th>18455</th>\n",
       "      <td>20307.656183</td>\n",
       "      <td>8740.0</td>\n",
       "      <td>-11567.656183</td>\n",
       "      <td>132.353046</td>\n",
       "    </tr>\n",
       "    <tr>\n",
       "      <th>20084</th>\n",
       "      <td>20622.149157</td>\n",
       "      <td>12671.0</td>\n",
       "      <td>-7951.149157</td>\n",
       "      <td>62.750763</td>\n",
       "    </tr>\n",
       "    <tr>\n",
       "      <th>20277</th>\n",
       "      <td>22679.514673</td>\n",
       "      <td>14853.0</td>\n",
       "      <td>-7826.514673</td>\n",
       "      <td>52.693157</td>\n",
       "    </tr>\n",
       "  </tbody>\n",
       "</table>\n",
       "<p>11406 rows × 4 columns</p>\n",
       "</div>"
      ],
      "text/plain": [
       "       Predicted Values  Actual Values      Residual  Difference%\n",
       "23           348.121595          405.0     56.878405    14.044051\n",
       "1            352.138099          335.0    -17.138099     5.115850\n",
       "35937        382.528056          394.0     11.471944     2.911661\n",
       "7            405.635647          351.0    -54.635647    15.565711\n",
       "20993        409.662918          367.0    -42.662918    11.624773\n",
       "...                 ...            ...           ...          ...\n",
       "20033      19172.713499        12401.0  -6771.713499    54.606189\n",
       "19990      20222.238268        12196.0  -8026.238268    65.810415\n",
       "18455      20307.656183         8740.0 -11567.656183   132.353046\n",
       "20084      20622.149157        12671.0  -7951.149157    62.750763\n",
       "20277      22679.514673        14853.0  -7826.514673    52.693157\n",
       "\n",
       "[11406 rows x 4 columns]"
      ]
     },
     "execution_count": 167,
     "metadata": {},
     "output_type": "execute_result"
    }
   ],
   "source": [
    "predicted_values = reg.predict(x_test)\n",
    "\n",
    "predicted_table = pd.DataFrame({ 'Predicted Values': np.exp(predicted_values), 'Actual Values': np.exp(y_test)})\n",
    "\n",
    "predicted_table['Residual'] = predicted_table['Actual Values'] - predicted_table['Predicted Values']\n",
    "predicted_table['Difference%'] = np.absolute((predicted_table['Residual'] / predicted_table['Actual Values']) * 100)\n",
    "\n",
    "predicted_table.sort_values('Predicted Values')"
   ]
  },
  {
   "cell_type": "code",
   "execution_count": 168,
   "id": "74a0d53e",
   "metadata": {},
   "outputs": [
    {
     "data": {
      "image/png": "[encoded data removed]",
      "text/plain": [
       "<Figure size 432x288 with 1 Axes>"
      ]
     },
     "metadata": {},
     "output_type": "display_data"
    }
   ],
   "source": [
    "# testing scatter plot\n",
    "\n",
    "plt.scatter(y_test,predicted_values)\n",
    "plt.xlabel('Original Value')\n",
    "plt.ylabel('Predicted Value')\n",
    "plt.show()"
   ]
  },
  {
   "cell_type": "markdown",
   "id": "0dfc4009",
   "metadata": {},
   "source": [
    "## Low predicted values are more accurate than higher ones"
   ]
  },
  {
   "cell_type": "markdown",
   "id": "0db54ec1",
   "metadata": {},
   "source": [
    "## Model Analysis"
   ]
  },
  {
   "cell_type": "code",
   "execution_count": 139,
   "id": "7e925106",
   "metadata": {},
   "outputs": [
    {
     "data": {
      "text/html": [
       "<div>\n",
       "<style scoped>\n",
       "    .dataframe tbody tr th:only-of-type {\n",
       "        vertical-align: middle;\n",
       "    }\n",
       "\n",
       "    .dataframe tbody tr th {\n",
       "        vertical-align: top;\n",
       "    }\n",
       "\n",
       "    .dataframe thead th {\n",
       "        text-align: right;\n",
       "    }\n",
       "</style>\n",
       "<table border=\"1\" class=\"dataframe\">\n",
       "  <thead>\n",
       "    <tr style=\"text-align: right;\">\n",
       "      <th></th>\n",
       "      <th>Feature</th>\n",
       "      <th>Weights</th>\n",
       "    </tr>\n",
       "  </thead>\n",
       "  <tbody>\n",
       "    <tr>\n",
       "      <th>0</th>\n",
       "      <td>Bias</td>\n",
       "      <td>7.608741</td>\n",
       "    </tr>\n",
       "    <tr>\n",
       "      <th>1</th>\n",
       "      <td>R-Square</td>\n",
       "      <td>-0.413552</td>\n",
       "    </tr>\n",
       "    <tr>\n",
       "      <th>2</th>\n",
       "      <td>Adj R-Square</td>\n",
       "      <td>-0.414110</td>\n",
       "    </tr>\n",
       "  </tbody>\n",
       "</table>\n",
       "</div>"
      ],
      "text/plain": [
       "        Feature   Weights\n",
       "0          Bias  7.608741\n",
       "1      R-Square -0.413552\n",
       "2  Adj R-Square -0.414110"
      ]
     },
     "execution_count": 139,
     "metadata": {},
     "output_type": "execute_result"
    }
   ],
   "source": [
    "n = inputs.shape[0]\n",
    "p = inputs.shape[1]\n",
    "\n",
    "r_sqr = reg.score(inputs,targets)\n",
    "adj_r_sqr = 1 - (1 - r_sqr) * ((n - 1) / (n - p - 1))\n",
    "\n",
    "analysis = pd.DataFrame({'Feature': ['Bias','R-Square','Adj R-Square'], 'Weights': [reg.intercept_,r_sqr,adj_r_sqr]})\n",
    "\n",
    "analysis"
   ]
  },
  {
   "cell_type": "markdown",
   "id": "639fa668",
   "metadata": {},
   "source": [
    "## P-Value"
   ]
  },
  {
   "cell_type": "code",
   "execution_count": 165,
   "id": "e4230b29",
   "metadata": {},
   "outputs": [
    {
     "data": {
      "text/html": [
       "<div>\n",
       "<style scoped>\n",
       "    .dataframe tbody tr th:only-of-type {\n",
       "        vertical-align: middle;\n",
       "    }\n",
       "\n",
       "    .dataframe tbody tr th {\n",
       "        vertical-align: top;\n",
       "    }\n",
       "\n",
       "    .dataframe thead th {\n",
       "        text-align: right;\n",
       "    }\n",
       "</style>\n",
       "<table border=\"1\" class=\"dataframe\">\n",
       "  <thead>\n",
       "    <tr style=\"text-align: right;\">\n",
       "      <th></th>\n",
       "      <th>Inputs</th>\n",
       "      <th>P-Values</th>\n",
       "    </tr>\n",
       "  </thead>\n",
       "  <tbody>\n",
       "    <tr>\n",
       "      <th>0</th>\n",
       "      <td>carat</td>\n",
       "      <td>0.000000e+00</td>\n",
       "    </tr>\n",
       "    <tr>\n",
       "      <th>1</th>\n",
       "      <td>cut_Good</td>\n",
       "      <td>1.835662e-04</td>\n",
       "    </tr>\n",
       "    <tr>\n",
       "      <th>2</th>\n",
       "      <td>cut_Ideal</td>\n",
       "      <td>2.861766e-113</td>\n",
       "    </tr>\n",
       "    <tr>\n",
       "      <th>3</th>\n",
       "      <td>cut_Premium</td>\n",
       "      <td>1.289840e-23</td>\n",
       "    </tr>\n",
       "    <tr>\n",
       "      <th>4</th>\n",
       "      <td>cut_Very Good</td>\n",
       "      <td>2.395917e-25</td>\n",
       "    </tr>\n",
       "    <tr>\n",
       "      <th>5</th>\n",
       "      <td>color_E</td>\n",
       "      <td>7.587882e-16</td>\n",
       "    </tr>\n",
       "    <tr>\n",
       "      <th>6</th>\n",
       "      <td>color_F</td>\n",
       "      <td>4.024438e-19</td>\n",
       "    </tr>\n",
       "    <tr>\n",
       "      <th>7</th>\n",
       "      <td>color_G</td>\n",
       "      <td>5.827722e-03</td>\n",
       "    </tr>\n",
       "    <tr>\n",
       "      <th>8</th>\n",
       "      <td>color_H</td>\n",
       "      <td>8.320026e-04</td>\n",
       "    </tr>\n",
       "    <tr>\n",
       "      <th>9</th>\n",
       "      <td>color_I</td>\n",
       "      <td>1.117446e-03</td>\n",
       "    </tr>\n",
       "    <tr>\n",
       "      <th>10</th>\n",
       "      <td>color_J</td>\n",
       "      <td>8.518635e-01</td>\n",
       "    </tr>\n",
       "    <tr>\n",
       "      <th>11</th>\n",
       "      <td>clarity_IF</td>\n",
       "      <td>1.892168e-25</td>\n",
       "    </tr>\n",
       "    <tr>\n",
       "      <th>12</th>\n",
       "      <td>clarity_SI1</td>\n",
       "      <td>1.064087e-02</td>\n",
       "    </tr>\n",
       "    <tr>\n",
       "      <th>13</th>\n",
       "      <td>clarity_SI2</td>\n",
       "      <td>4.326191e-126</td>\n",
       "    </tr>\n",
       "    <tr>\n",
       "      <th>14</th>\n",
       "      <td>clarity_VS1</td>\n",
       "      <td>1.197193e-01</td>\n",
       "    </tr>\n",
       "    <tr>\n",
       "      <th>15</th>\n",
       "      <td>clarity_VS2</td>\n",
       "      <td>5.806544e-08</td>\n",
       "    </tr>\n",
       "    <tr>\n",
       "      <th>16</th>\n",
       "      <td>clarity_VVS1</td>\n",
       "      <td>7.650790e-59</td>\n",
       "    </tr>\n",
       "    <tr>\n",
       "      <th>17</th>\n",
       "      <td>clarity_VVS2</td>\n",
       "      <td>2.595886e-03</td>\n",
       "    </tr>\n",
       "  </tbody>\n",
       "</table>\n",
       "</div>"
      ],
      "text/plain": [
       "           Inputs       P-Values\n",
       "0           carat   0.000000e+00\n",
       "1        cut_Good   1.835662e-04\n",
       "2       cut_Ideal  2.861766e-113\n",
       "3     cut_Premium   1.289840e-23\n",
       "4   cut_Very Good   2.395917e-25\n",
       "5         color_E   7.587882e-16\n",
       "6         color_F   4.024438e-19\n",
       "7         color_G   5.827722e-03\n",
       "8         color_H   8.320026e-04\n",
       "9         color_I   1.117446e-03\n",
       "10        color_J   8.518635e-01\n",
       "11     clarity_IF   1.892168e-25\n",
       "12    clarity_SI1   1.064087e-02\n",
       "13    clarity_SI2  4.326191e-126\n",
       "14    clarity_VS1   1.197193e-01\n",
       "15    clarity_VS2   5.806544e-08\n",
       "16   clarity_VVS1   7.650790e-59\n",
       "17   clarity_VVS2   2.595886e-03"
      ]
     },
     "execution_count": 165,
     "metadata": {},
     "output_type": "execute_result"
    }
   ],
   "source": [
    "from sklearn.feature_selection import f_regression\n",
    "\n",
    "p_values = f_regression(inputs,targets)\n",
    "\n",
    "cols = data.drop(['price','log_price'],axis=1).columns.values.tolist()\n",
    "\n",
    "p_values_table = pd.DataFrame({'Inputs': cols, 'P-Values': p_values[1]})\n",
    "p_values_table"
   ]
  },
  {
   "cell_type": "markdown",
   "id": "a7c42fe4",
   "metadata": {},
   "source": [
    "# Not the best model so far, but i will improve it in future"
   ]
  }
 ],
 "metadata": {
  "kernelspec": {
   "display_name": "Python 3",
   "language": "python",
   "name": "python3"
  },
  "language_info": {
   "codemirror_mode": {
    "name": "ipython",
    "version": 3
   },
   "file_extension": ".py",
   "mimetype": "text/x-python",
   "name": "python",
   "nbconvert_exporter": "python",
   "pygments_lexer": "ipython3",
   "version": "3.8.8"
  }
 },
 "nbformat": 4,
 "nbformat_minor": 5
}
